{
 "cells": [
  {
   "cell_type": "code",
   "execution_count": 1,
   "id": "fb1c0638",
   "metadata": {},
   "outputs": [],
   "source": [
    "import numpy as np"
   ]
  },
  {
   "cell_type": "code",
   "execution_count": 2,
   "id": "9f7a726e",
   "metadata": {},
   "outputs": [],
   "source": [
    "def logistic(x):\n",
    "    \n",
    "    \"\"\"\n",
    "    Logistic function to calculate probabilities.\n",
    "    \"\"\"\n",
    "    # Check if x is a scalar (float or int)\n",
    "    # Convert scalar to 1D array\n",
    "    if np.isscalar(x):\n",
    "        x = np.array([x])\n",
    "    \n",
    "    # Check if x is already a 2D array\n",
    "    # Convert 1D array to 2D array with a single row\n",
    "    if x.ndim == 1:\n",
    "        x = np.expand_dims(x, axis=0)\n",
    "    \n",
    "    return np.exp(x) / np.sum(np.exp(x), axis=1, keepdims=True)\n"
   ]
  },
  {
   "cell_type": "code",
   "execution_count": 10,
   "id": "7a2dadb6",
   "metadata": {},
   "outputs": [],
   "source": [
    "def calcu_utilities(parameters, data):\n",
    "    \n",
    "    \"\"\"\n",
    "    Calculate utilities for each alternative based on parameters and data.\n",
    "    \"\"\"\n",
    "    num_alternatives = len(data['AV1'])\n",
    "    num_params = len(parameters)\n",
    "    \n",
    "    #Error handling\n",
    "    # Assuming each alternative has 7 parameters\n",
    "    if num_alternatives * 7 != num_params:  \n",
    "        raise ValueError(\"Mismatched dimensions between parameters and data\")\n",
    "        \n",
    "    V = {}\n",
    "    \n",
    "    # Iterate over each alternative (assuming AV1, AV2, AV3 are of the same length)\n",
    "    for alt in range(1, num_alternatives + 1):\n",
    "        V[alt] = parameters[f'beta01'] + \\\n",
    "                 parameters[f'beta1'] * data['X1'][alt - 1] + \\\n",
    "                 parameters[f'beta2'] * data['X2'][alt - 1] + \\\n",
    "                 parameters[f'beta02'] * data['Sero'][alt - 1] + \\\n",
    "                 parameters[f'beta03'] * data['S1'][alt - 1] + \\\n",
    "                 parameters[f'betaS1_13'] * data['S1'][alt - 1] * data['AV1'][alt - 1] + \\\n",
    "                 parameters[f'betaS1_23'] * data['S1'][alt - 1] * data['AV2'][alt - 1]\n",
    "    return V\n"
   ]
  },
  {
   "cell_type": "code",
   "execution_count": 11,
   "id": "339c5e5a",
   "metadata": {},
   "outputs": [],
   "source": [
    "def calcu_probabilities(parameters,data):\n",
    "    \n",
    "    \"\"\"\n",
    "    calculate probabilities for each alternative.\n",
    "    \"\"\"\n",
    "    V = calcu_utilities(parameters,data)\n",
    "    probabilities = {}\n",
    "    \n",
    "    for alt, v_alt in V.items():\n",
    "        probabilities[alt] = logistic(v_alt)\n",
    "    \n",
    "    return probabilities\n",
    "    "
   ]
  },
  {
   "cell_type": "code",
   "execution_count": 12,
   "id": "e27b2046",
   "metadata": {},
   "outputs": [],
   "source": [
    "def save_probabilites(probabilities, filename='output.txt'):\n",
    "    with open(filename,'w') as file:\n",
    "        for alt, probs in probabilities.items():\n",
    "            file.write(f'Alternative:{alt}: {probs}\\n')"
   ]
  },
  {
   "cell_type": "code",
   "execution_count": 13,
   "id": "5e96aa45",
   "metadata": {},
   "outputs": [],
   "source": [
    "data = {\n",
    "    'X1': [2, 1, 3, 4, 2, 1, 8, 7, 3, 2],\n",
    "    'X2': [8, 7, 4, 1, 4, 7, 2, 2, 3, 1],\n",
    "    'Sero': [0, 0, 0, 0, 0, 0, 0, 0, 0, 0],\n",
    "    'S1': [3, 8, 4, 7, 1, 6, 5, 9, 2, 3],\n",
    "    'AV1': [1, 1, 1, 1, 1, 0, 0, 1, 1, 0],\n",
    "    'AV2': [1, 1, 1, 0, 0, 1, 1, 1, 0, 1],\n",
    "    'AV3': [1, 1, 0, 0, 1, 1, 1, 1, 1, 1]\n",
    "}"
   ]
  },
  {
   "cell_type": "code",
   "execution_count": 14,
   "id": "328c3926",
   "metadata": {},
   "outputs": [],
   "source": [
    "# Parameters\n",
    "parameters = {\n",
    "    'beta01': 0.1, 'beta1': -0.5, 'beta2': -0.4,\n",
    "    'beta02': 1, 'beta03': 0, 'betaS1_13': 0.33, 'betaS1_23': 0.58\n",
    "}\n",
    "\n",
    "\n"
   ]
  },
  {
   "cell_type": "code",
   "execution_count": 18,
   "id": "be81066b",
   "metadata": {},
   "outputs": [
    {
     "name": "stdout",
     "output_type": "stream",
     "text": [
      "Error: Mismatched dimensions between parameters and data\n"
     ]
    }
   ],
   "source": [
    "try:\n",
    "    probabilities = calcu_probabilities(parameters, data)\n",
    "    save_probabilites(probabilities)\n",
    "    print(\"Probabilities calculated and saved successfully!\")\n",
    "except ValueError as e:\n",
    "    print(f\"Error: {e}\")"
   ]
  },
  {
   "cell_type": "code",
   "execution_count": 19,
   "id": "37b6b56e",
   "metadata": {},
   "outputs": [
    {
     "ename": "ValueError",
     "evalue": "Mismatched dimensions between parameters and data",
     "output_type": "error",
     "traceback": [
      "\u001b[1;31m---------------------------------------------------------------------------\u001b[0m",
      "\u001b[1;31mValueError\u001b[0m                                Traceback (most recent call last)",
      "Input \u001b[1;32mIn [19]\u001b[0m, in \u001b[0;36m<cell line: 2>\u001b[1;34m()\u001b[0m\n\u001b[0;32m      1\u001b[0m \u001b[38;5;66;03m#now we will calculate probabilities by call the fuction defined.\u001b[39;00m\n\u001b[1;32m----> 2\u001b[0m probabilities \u001b[38;5;241m=\u001b[39m \u001b[43mcalcu_probabilities\u001b[49m\u001b[43m(\u001b[49m\u001b[43mparameters\u001b[49m\u001b[43m,\u001b[49m\u001b[43mdata\u001b[49m\u001b[43m)\u001b[49m\n",
      "Input \u001b[1;32mIn [11]\u001b[0m, in \u001b[0;36mcalcu_probabilities\u001b[1;34m(parameters, data)\u001b[0m\n\u001b[0;32m      1\u001b[0m \u001b[38;5;28;01mdef\u001b[39;00m \u001b[38;5;21mcalcu_probabilities\u001b[39m(parameters,data):\n\u001b[0;32m      3\u001b[0m     \u001b[38;5;124;03m\"\"\"\u001b[39;00m\n\u001b[0;32m      4\u001b[0m \u001b[38;5;124;03m    calculate probabilities for each alternative.\u001b[39;00m\n\u001b[0;32m      5\u001b[0m \u001b[38;5;124;03m    \"\"\"\u001b[39;00m\n\u001b[1;32m----> 6\u001b[0m     V \u001b[38;5;241m=\u001b[39m \u001b[43mcalcu_utilities\u001b[49m\u001b[43m(\u001b[49m\u001b[43mparameters\u001b[49m\u001b[43m,\u001b[49m\u001b[43mdata\u001b[49m\u001b[43m)\u001b[49m\n\u001b[0;32m      7\u001b[0m     probabilities \u001b[38;5;241m=\u001b[39m {}\n\u001b[0;32m      9\u001b[0m     \u001b[38;5;28;01mfor\u001b[39;00m alt, v_alt \u001b[38;5;129;01min\u001b[39;00m V\u001b[38;5;241m.\u001b[39mitems():\n",
      "Input \u001b[1;32mIn [10]\u001b[0m, in \u001b[0;36mcalcu_utilities\u001b[1;34m(parameters, data)\u001b[0m\n\u001b[0;32m      9\u001b[0m \u001b[38;5;66;03m#Error handling\u001b[39;00m\n\u001b[0;32m     10\u001b[0m \u001b[38;5;66;03m# Assuming each alternative has 7 parameters\u001b[39;00m\n\u001b[0;32m     11\u001b[0m \u001b[38;5;28;01mif\u001b[39;00m num_alternatives \u001b[38;5;241m*\u001b[39m \u001b[38;5;241m7\u001b[39m \u001b[38;5;241m!=\u001b[39m num_params:  \n\u001b[1;32m---> 12\u001b[0m     \u001b[38;5;28;01mraise\u001b[39;00m \u001b[38;5;167;01mValueError\u001b[39;00m(\u001b[38;5;124m\"\u001b[39m\u001b[38;5;124mMismatched dimensions between parameters and data\u001b[39m\u001b[38;5;124m\"\u001b[39m)\n\u001b[0;32m     14\u001b[0m V \u001b[38;5;241m=\u001b[39m {}\n\u001b[0;32m     16\u001b[0m \u001b[38;5;66;03m# Iterate over each alternative (assuming AV1, AV2, AV3 are of the same length)\u001b[39;00m\n",
      "\u001b[1;31mValueError\u001b[0m: Mismatched dimensions between parameters and data"
     ]
    }
   ],
   "source": [
    "#now we will calculate probabilities by call the fuction defined.\n",
    "probabilities = calcu_probabilities(parameters,data)"
   ]
  },
  {
   "cell_type": "code",
   "execution_count": 20,
   "id": "bc42f778",
   "metadata": {},
   "outputs": [],
   "source": [
    "save_probabilites(probabilities)"
   ]
  },
  {
   "cell_type": "code",
   "execution_count": null,
   "id": "01a883a3",
   "metadata": {},
   "outputs": [],
   "source": []
  }
 ],
 "metadata": {
  "kernelspec": {
   "display_name": "Python 3 (ipykernel)",
   "language": "python",
   "name": "python3"
  },
  "language_info": {
   "codemirror_mode": {
    "name": "ipython",
    "version": 3
   },
   "file_extension": ".py",
   "mimetype": "text/x-python",
   "name": "python",
   "nbconvert_exporter": "python",
   "pygments_lexer": "ipython3",
   "version": "3.9.12"
  }
 },
 "nbformat": 4,
 "nbformat_minor": 5
}
